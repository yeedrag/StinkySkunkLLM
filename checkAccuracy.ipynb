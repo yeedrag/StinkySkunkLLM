{
 "cells": [
  {
   "cell_type": "code",
   "execution_count": 2,
   "metadata": {},
   "outputs": [],
   "source": [
    "import pandas as pd"
   ]
  },
  {
   "cell_type": "code",
   "execution_count": 30,
   "metadata": {},
   "outputs": [
    {
     "name": "stdout",
     "output_type": "stream",
     "text": [
      "Number of repeated materials in the first CSV: 46\n",
      "Materials in the first CSV that are also in the second CSV: 21\n",
      "Accuracy (materials within 10% error margin): 57.14%\n"
     ]
    }
   ],
   "source": [
    "import pandas as pd\n",
    "\n",
    "def compare_csvs(csv_path1, csv_path2):\n",
    "    \"\"\"\n",
    "    Compare two CSV files in terms of repeated materials, matching materials, and accuracy based on value comparison.\n",
    "\n",
    "    Parameters:\n",
    "    csv_path1 (str): Path to the first CSV file.\n",
    "    csv_path2 (str): Path to the second CSV file.\n",
    "\n",
    "    Returns:\n",
    "    tuple: A tuple containing the number of repeated materials in the first CSV,\n",
    "           the number of materials in the first CSV that are also in the second CSV,\n",
    "           and the accuracy of these materials' values being within a 10% error margin.\n",
    "    \"\"\"\n",
    "    # Load the CSV files into pandas DataFrames\n",
    "    df1 = pd.read_csv(csv_path1)\n",
    "    df2 = pd.read_csv(csv_path2)\n",
    "    # Calculate the number of repeated materials in the first CSV\n",
    "    repeated_materials = df1.duplicated(subset=['Material']).sum()\n",
    "\n",
    "    # Group duplicated materials\n",
    "    df1 = df1.groupby('Material')['Value'].apply(list).reset_index()\n",
    "\n",
    "    # Find materials in the first CSV that are also in the second CSV\n",
    "    matching_materials = pd.merge(df1, df2, on='Material', how='inner', suffixes=('_x', '_y'))\n",
    "    # Function to check if the values are within a 10% error margin\n",
    "    def is_within_10_percent(row):\n",
    "        if(row['Value_y'] == 0):\n",
    "            return all(abs(gpt_value - row['Value_y']) <= 5 for gpt_value in row['Value_x'])\n",
    "        return all(abs(gpt_value - row['Value_y']) / row['Value_y'] <= 0.1 for gpt_value in row['Value_x'])\n",
    "\n",
    "    # Apply the function to determine correctness\n",
    "    matching_materials['is_correct'] = matching_materials.apply(is_within_10_percent, axis=1)\n",
    "\n",
    "    # Count how many are correct\n",
    "    correct_count = matching_materials['is_correct'].sum()\n",
    "\n",
    "    # Calculate accuracy\n",
    "    accuracy = correct_count / len(matching_materials) if len(matching_materials) > 0 else 0\n",
    "\n",
    "    return repeated_materials, len(matching_materials), accuracy\n",
    "\n",
    "# Example usage\n",
    "csv_path1 = 'PolymerTransitionTemperature_politely_6_2024_03_04-142435.csv'\n",
    "csv_path2 = 'test.csv'\n",
    "repeated_materials, matching_material_count, accuracy = compare_csvs(csv_path1, csv_path2)\n",
    "\n",
    "print(f\"Number of repeated materials in the first CSV: {repeated_materials}\")\n",
    "print(f\"Materials in the first CSV that are also in the second CSV: {matching_material_count}\")\n",
    "print(f\"Accuracy (materials within 10% error margin): {accuracy:.2%}\")\n"
   ]
  }
 ],
 "metadata": {
  "kernelspec": {
   "display_name": "Python 3",
   "language": "python",
   "name": "python3"
  },
  "language_info": {
   "codemirror_mode": {
    "name": "ipython",
    "version": 3
   },
   "file_extension": ".py",
   "mimetype": "text/x-python",
   "name": "python",
   "nbconvert_exporter": "python",
   "pygments_lexer": "ipython3",
   "version": "3.10.4"
  }
 },
 "nbformat": 4,
 "nbformat_minor": 2
}
