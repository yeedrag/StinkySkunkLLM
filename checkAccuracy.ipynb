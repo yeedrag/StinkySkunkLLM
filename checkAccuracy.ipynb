{
 "cells": [
  {
   "cell_type": "code",
   "execution_count": 8,
   "metadata": {},
   "outputs": [
    {
     "name": "stdout",
     "output_type": "stream",
     "text": [
      "Empty DataFrame\n",
      "Columns: [Material, Value_x, Value_y]\n",
      "Index: []\n"
     ]
    },
    {
     "ename": "ValueError",
     "evalue": "Cannot set a DataFrame with multiple columns to the single column is_correct",
     "output_type": "error",
     "traceback": [
      "\u001b[1;31m---------------------------------------------------------------------------\u001b[0m",
      "\u001b[1;31mValueError\u001b[0m                                Traceback (most recent call last)",
      "Cell \u001b[1;32mIn[8], line 48\u001b[0m\n\u001b[0;32m     46\u001b[0m csv_path1 \u001b[38;5;241m=\u001b[39m \u001b[38;5;124m'\u001b[39m\u001b[38;5;124mPolymerTransitionTemperature_rudely_1_2024_03_12-153934.csv\u001b[39m\u001b[38;5;124m'\u001b[39m\n\u001b[0;32m     47\u001b[0m csv_path2 \u001b[38;5;241m=\u001b[39m \u001b[38;5;124m'\u001b[39m\u001b[38;5;124m../test_smiles.csv\u001b[39m\u001b[38;5;124m'\u001b[39m\n\u001b[1;32m---> 48\u001b[0m repeated_materials, matching_material_count, accuracy \u001b[38;5;241m=\u001b[39m \u001b[43mcompare_csvs\u001b[49m\u001b[43m(\u001b[49m\u001b[43mcsv_path1\u001b[49m\u001b[43m,\u001b[49m\u001b[43m \u001b[49m\u001b[43mcsv_path2\u001b[49m\u001b[43m)\u001b[49m\n\u001b[0;32m     50\u001b[0m \u001b[38;5;28mprint\u001b[39m(\u001b[38;5;124mf\u001b[39m\u001b[38;5;124m\"\u001b[39m\u001b[38;5;124mNumber of repeated materials in the first CSV: \u001b[39m\u001b[38;5;132;01m{\u001b[39;00mrepeated_materials\u001b[38;5;132;01m}\u001b[39;00m\u001b[38;5;124m\"\u001b[39m)\n\u001b[0;32m     51\u001b[0m \u001b[38;5;28mprint\u001b[39m(\u001b[38;5;124mf\u001b[39m\u001b[38;5;124m\"\u001b[39m\u001b[38;5;124mMaterials in the first CSV that are also in the second CSV: \u001b[39m\u001b[38;5;132;01m{\u001b[39;00mmatching_material_count\u001b[38;5;132;01m}\u001b[39;00m\u001b[38;5;124m\"\u001b[39m)\n",
      "Cell \u001b[1;32mIn[8], line 35\u001b[0m, in \u001b[0;36mcompare_csvs\u001b[1;34m(csv_path1, csv_path2)\u001b[0m\n\u001b[0;32m     33\u001b[0m \u001b[38;5;28mprint\u001b[39m(matching_materials)\n\u001b[0;32m     34\u001b[0m \u001b[38;5;66;03m# Apply the function to determine correctness\u001b[39;00m\n\u001b[1;32m---> 35\u001b[0m \u001b[43mmatching_materials\u001b[49m\u001b[43m[\u001b[49m\u001b[38;5;124;43m'\u001b[39;49m\u001b[38;5;124;43mis_correct\u001b[39;49m\u001b[38;5;124;43m'\u001b[39;49m\u001b[43m]\u001b[49m \u001b[38;5;241m=\u001b[39m matching_materials\u001b[38;5;241m.\u001b[39mapply(is_within_10_percent, axis\u001b[38;5;241m=\u001b[39m\u001b[38;5;241m1\u001b[39m)\n\u001b[0;32m     37\u001b[0m \u001b[38;5;66;03m# Count how many are correct\u001b[39;00m\n\u001b[0;32m     38\u001b[0m correct_count \u001b[38;5;241m=\u001b[39m matching_materials[\u001b[38;5;124m'\u001b[39m\u001b[38;5;124mis_correct\u001b[39m\u001b[38;5;124m'\u001b[39m]\u001b[38;5;241m.\u001b[39msum()\n",
      "File \u001b[1;32mc:\\Users\\yeedrag\\AppData\\Local\\Programs\\Python\\Python310\\lib\\site-packages\\pandas\\core\\frame.py:4289\u001b[0m, in \u001b[0;36mDataFrame.__setitem__\u001b[1;34m(self, key, value)\u001b[0m\n\u001b[0;32m   4287\u001b[0m     \u001b[38;5;28mself\u001b[39m\u001b[38;5;241m.\u001b[39m_setitem_array(key, value)\n\u001b[0;32m   4288\u001b[0m \u001b[38;5;28;01melif\u001b[39;00m \u001b[38;5;28misinstance\u001b[39m(value, DataFrame):\n\u001b[1;32m-> 4289\u001b[0m     \u001b[38;5;28;43mself\u001b[39;49m\u001b[38;5;241;43m.\u001b[39;49m\u001b[43m_set_item_frame_value\u001b[49m\u001b[43m(\u001b[49m\u001b[43mkey\u001b[49m\u001b[43m,\u001b[49m\u001b[43m \u001b[49m\u001b[43mvalue\u001b[49m\u001b[43m)\u001b[49m\n\u001b[0;32m   4290\u001b[0m \u001b[38;5;28;01melif\u001b[39;00m (\n\u001b[0;32m   4291\u001b[0m     is_list_like(value)\n\u001b[0;32m   4292\u001b[0m     \u001b[38;5;129;01mand\u001b[39;00m \u001b[38;5;129;01mnot\u001b[39;00m \u001b[38;5;28mself\u001b[39m\u001b[38;5;241m.\u001b[39mcolumns\u001b[38;5;241m.\u001b[39mis_unique\n\u001b[0;32m   4293\u001b[0m     \u001b[38;5;129;01mand\u001b[39;00m \u001b[38;5;241m1\u001b[39m \u001b[38;5;241m<\u001b[39m \u001b[38;5;28mlen\u001b[39m(\u001b[38;5;28mself\u001b[39m\u001b[38;5;241m.\u001b[39mcolumns\u001b[38;5;241m.\u001b[39mget_indexer_for([key])) \u001b[38;5;241m==\u001b[39m \u001b[38;5;28mlen\u001b[39m(value)\n\u001b[0;32m   4294\u001b[0m ):\n\u001b[0;32m   4295\u001b[0m     \u001b[38;5;66;03m# Column to set is duplicated\u001b[39;00m\n\u001b[0;32m   4296\u001b[0m     \u001b[38;5;28mself\u001b[39m\u001b[38;5;241m.\u001b[39m_setitem_array([key], value)\n",
      "File \u001b[1;32mc:\\Users\\yeedrag\\AppData\\Local\\Programs\\Python\\Python310\\lib\\site-packages\\pandas\\core\\frame.py:4447\u001b[0m, in \u001b[0;36mDataFrame._set_item_frame_value\u001b[1;34m(self, key, value)\u001b[0m\n\u001b[0;32m   4444\u001b[0m     \u001b[38;5;28;01mreturn\u001b[39;00m \u001b[38;5;28mself\u001b[39m\u001b[38;5;241m.\u001b[39misetitem(locs, value)\n\u001b[0;32m   4446\u001b[0m \u001b[38;5;28;01mif\u001b[39;00m \u001b[38;5;28mlen\u001b[39m(value\u001b[38;5;241m.\u001b[39mcolumns) \u001b[38;5;241m>\u001b[39m \u001b[38;5;241m1\u001b[39m:\n\u001b[1;32m-> 4447\u001b[0m     \u001b[38;5;28;01mraise\u001b[39;00m \u001b[38;5;167;01mValueError\u001b[39;00m(\n\u001b[0;32m   4448\u001b[0m         \u001b[38;5;124m\"\u001b[39m\u001b[38;5;124mCannot set a DataFrame with multiple columns to the single \u001b[39m\u001b[38;5;124m\"\u001b[39m\n\u001b[0;32m   4449\u001b[0m         \u001b[38;5;124mf\u001b[39m\u001b[38;5;124m\"\u001b[39m\u001b[38;5;124mcolumn \u001b[39m\u001b[38;5;132;01m{\u001b[39;00mkey\u001b[38;5;132;01m}\u001b[39;00m\u001b[38;5;124m\"\u001b[39m\n\u001b[0;32m   4450\u001b[0m     )\n\u001b[0;32m   4451\u001b[0m \u001b[38;5;28;01melif\u001b[39;00m \u001b[38;5;28mlen\u001b[39m(value\u001b[38;5;241m.\u001b[39mcolumns) \u001b[38;5;241m==\u001b[39m \u001b[38;5;241m0\u001b[39m:\n\u001b[0;32m   4452\u001b[0m     \u001b[38;5;28;01mraise\u001b[39;00m \u001b[38;5;167;01mValueError\u001b[39;00m(\n\u001b[0;32m   4453\u001b[0m         \u001b[38;5;124mf\u001b[39m\u001b[38;5;124m\"\u001b[39m\u001b[38;5;124mCannot set a DataFrame without columns to the column \u001b[39m\u001b[38;5;132;01m{\u001b[39;00mkey\u001b[38;5;132;01m}\u001b[39;00m\u001b[38;5;124m\"\u001b[39m\n\u001b[0;32m   4454\u001b[0m     )\n",
      "\u001b[1;31mValueError\u001b[0m: Cannot set a DataFrame with multiple columns to the single column is_correct"
     ]
    }
   ],
   "source": [
    "import pandas as pd\n",
    "\n",
    "def compare_csvs(csv_path1, csv_path2):\n",
    "    \"\"\"\n",
    "    Compare two CSV files in terms of repeated materials, matching materials, and accuracy based on value comparison.\n",
    "\n",
    "    Parameters:\n",
    "    csv_path1 (str): Path to the first CSV file.\n",
    "    csv_path2 (str): Path to the second CSV file.\n",
    "\n",
    "    Returns:\n",
    "    tuple: A tuple containing the number of repeated materials in the first CSV,\n",
    "           the number of materials in the first CSV that are also in the second CSV,\n",
    "           and the accuracy of these materials' values being within a 10% error margin.\n",
    "    \"\"\"\n",
    "    # Load the CSV files into pandas DataFrames\n",
    "    df1 = pd.read_csv(csv_path1)\n",
    "    df2 = pd.read_csv(csv_path2)\n",
    "    # Calculate the number of repeated materials in the first CSV\n",
    "    repeated_materials = df1.duplicated(subset=['Material']).sum()\n",
    "\n",
    "    # Group duplicated materials\n",
    "    df1 = df1.groupby('Material')['Value'].apply(list).reset_index()\n",
    "\n",
    "    # Find materials in the first CSV that are also in the second CSV\n",
    "    matching_materials = pd.merge(df1, df2, on='Material', how='inner', suffixes=('_x', '_y'))\n",
    "    # Function to check if the values are within a 10% error margin\n",
    "    def is_within_10_percent(row):\n",
    "        if(row['Value_y'] == 0):\n",
    "            return all(abs(gpt_value - row['Value_y']) <= 5 for gpt_value in row['Value_x'])\n",
    "        return all(abs(gpt_value - row['Value_y']) / row['Value_y'] <= 0.1 for gpt_value in row['Value_x'])\n",
    "\n",
    "    # Apply the function to determine correctness\n",
    "    matching_materials['is_correct'] = matching_materials.apply(is_within_10_percent, axis=1)\n",
    "\n",
    "    # Count how many are correct\n",
    "    correct_count = matching_materials['is_correct'].sum()\n",
    "\n",
    "    # Calculate accuracy\n",
    "    accuracy = correct_count / len(matching_materials) if len(matching_materials) > 0 else 0\n",
    "\n",
    "    return repeated_materials, len(matching_materials), accuracy\n",
    "\n",
    "# Example usage\n",
    "csv_path1 = 'PolymerTransitionTemperature_rudely_1_2024_03_12-153934.csv'\n",
    "csv_path2 = '../test_smiles.csv'\n",
    "repeated_materials, matching_material_count, accuracy = compare_csvs(csv_path1, csv_path2)\n",
    "\n",
    "print(f\"Number of repeated materials in the first CSV: {repeated_materials}\")\n",
    "print(f\"Materials in the first CSV that are also in the second CSV: {matching_material_count}\")\n",
    "print(f\"Accuracy (materials within 10% error margin): {accuracy:.2%}\")\n"
   ]
  }
 ],
 "metadata": {
  "kernelspec": {
   "display_name": "Python 3",
   "language": "python",
   "name": "python3"
  },
  "language_info": {
   "codemirror_mode": {
    "name": "ipython",
    "version": 3
   },
   "file_extension": ".py",
   "mimetype": "text/x-python",
   "name": "python",
   "nbconvert_exporter": "python",
   "pygments_lexer": "ipython3",
   "version": "3.10.4"
  }
 },
 "nbformat": 4,
 "nbformat_minor": 2
}
